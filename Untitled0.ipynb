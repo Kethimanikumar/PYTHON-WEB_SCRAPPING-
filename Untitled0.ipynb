{
  "nbformat": 4,
  "nbformat_minor": 0,
  "metadata": {
    "colab": {
      "provenance": [],
      "authorship_tag": "ABX9TyMru7MiDgGX2pbXUTZdqB8u"
    },
    "kernelspec": {
      "name": "python3",
      "display_name": "Python 3"
    },
    "language_info": {
      "name": "python"
    }
  },
  "cells": [
    {
      "cell_type": "code",
      "execution_count": null,
      "metadata": {
        "id": "PmPLRymh7m0X"
      },
      "outputs": [],
      "source": [
        "import requests\n",
        "from bs4 import BeautifulSoup as bs\n",
        "from urllib.request import urlopen\n",
        "import logging"
      ]
    },
    {
      "cell_type": "markdown",
      "source": [],
      "metadata": {
        "id": "SWzTXJfA_Th6"
      }
    },
    {
      "cell_type": "code",
      "source": [
        "flipcart_url = \"https://www.flipkart.com/search?q=\" + \"s23\""
      ],
      "metadata": {
        "id": "Xj4zesYS7sXe"
      },
      "execution_count": null,
      "outputs": []
    },
    {
      "cell_type": "code",
      "source": [
        "flipcart_url "
      ],
      "metadata": {
        "colab": {
          "base_uri": "https://localhost:8080/",
          "height": 36
        },
        "id": "Mh-Arhq271BG",
        "outputId": "f4fdee75-6c92-4a90-ddac-df88475d71a1"
      },
      "execution_count": null,
      "outputs": [
        {
          "output_type": "execute_result",
          "data": {
            "text/plain": [
              "'https://www.flipkart.com/search?q=s23'"
            ],
            "application/vnd.google.colaboratory.intrinsic+json": {
              "type": "string"
            }
          },
          "metadata": {},
          "execution_count": 10
        }
      ]
    },
    {
      "cell_type": "code",
      "source": [
        "urlclient = urlopen(flipcart_url)"
      ],
      "metadata": {
        "id": "jGEkHUst8piu"
      },
      "execution_count": null,
      "outputs": []
    },
    {
      "cell_type": "code",
      "source": [
        "flipcart_page = urlclient.read()"
      ],
      "metadata": {
        "id": "zfPzKyDAMrfr"
      },
      "execution_count": null,
      "outputs": []
    },
    {
      "cell_type": "code",
      "source": [
        "flipcart_html = bs(flipcart_page , 'html.parser')"
      ],
      "metadata": {
        "id": "dSSaWdmWM1f6"
      },
      "execution_count": null,
      "outputs": []
    },
    {
      "cell_type": "code",
      "source": [
        "'https://www.flipkart.com'+'/dyanora-sigma-108-cm-43-inch-full-hd-led-smart-linux-tv-40-watt-box-speakers-bezel-less-design/p/itmcdbced04b2319?pid=TVSGHZAGFYKGZQ8K&lid=LSTTVSGHZAGFYKGZQ8KUAM8H1&marketplace=FLIPKART&q=tv&store=ckf%2Fczl&srno=s_1_1&otracker=search&otracker1=search&fm=organic&iid=en_xF8tH%2FD493QWU9p74CMkRhAnl%2FZDSt2g4RX8asyXf547oHm6aKW0Vwig1Ae%2FF%2BxpMab4jOA70lzjnpWCWaM8Dw%3D%3D&ppt=sp&ppn=sp&ssid=6vokrwan280000001676982936780&qH=c9a1fdac6e082dd8'"
      ],
      "metadata": {
        "colab": {
          "base_uri": "https://localhost:8080/",
          "height": 88
        },
        "id": "m729ObmbNYRT",
        "outputId": "8f6c986c-ae2c-4912-d171-4a073e3fa45c"
      },
      "execution_count": null,
      "outputs": [
        {
          "output_type": "execute_result",
          "data": {
            "text/plain": [
              "'https://www.flipkart.com/dyanora-sigma-108-cm-43-inch-full-hd-led-smart-linux-tv-40-watt-box-speakers-bezel-less-design/p/itmcdbced04b2319?pid=TVSGHZAGFYKGZQ8K&lid=LSTTVSGHZAGFYKGZQ8KUAM8H1&marketplace=FLIPKART&q=tv&store=ckf%2Fczl&srno=s_1_1&otracker=search&otracker1=search&fm=organic&iid=en_xF8tH%2FD493QWU9p74CMkRhAnl%2FZDSt2g4RX8asyXf547oHm6aKW0Vwig1Ae%2FF%2BxpMab4jOA70lzjnpWCWaM8Dw%3D%3D&ppt=sp&ppn=sp&ssid=6vokrwan280000001676982936780&qH=c9a1fdac6e082dd8'"
            ],
            "application/vnd.google.colaboratory.intrinsic+json": {
              "type": "string"
            }
          },
          "metadata": {},
          "execution_count": 15
        }
      ]
    },
    {
      "cell_type": "code",
      "source": [
        "bigbox = flipcart_html.find_all(\"div\" ,{\"class\":\"_1AtVbE col-12-12\"} )"
      ],
      "metadata": {
        "id": "tx8gT4_NO2jN"
      },
      "execution_count": null,
      "outputs": []
    },
    {
      "cell_type": "code",
      "source": [
        "len(bigbox)"
      ],
      "metadata": {
        "colab": {
          "base_uri": "https://localhost:8080/"
        },
        "id": "fM29gKoSO2XZ",
        "outputId": "0ded3b5e-a39e-4246-b65f-95bbc2b090bf"
      },
      "execution_count": null,
      "outputs": [
        {
          "output_type": "execute_result",
          "data": {
            "text/plain": [
              "30"
            ]
          },
          "metadata": {},
          "execution_count": 17
        }
      ]
    },
    {
      "cell_type": "code",
      "source": [
        "del bigbox[0:3]"
      ],
      "metadata": {
        "id": "jIzGOQGJPmwE"
      },
      "execution_count": null,
      "outputs": []
    },
    {
      "cell_type": "code",
      "source": [
        "productlink = \"https://www.flipkart.com\" + bigbox[0].div.div.div.a['href']"
      ],
      "metadata": {
        "id": "9yf50rF2P0oK"
      },
      "execution_count": null,
      "outputs": []
    },
    {
      "cell_type": "code",
      "source": [
        "for i in bigbox:\n",
        "    print(\"https://www.flipkart.com\" + i.div.div.div.a['href'])\n",
        "    "
      ],
      "metadata": {
        "colab": {
          "base_uri": "https://localhost:8080/",
          "height": 619
        },
        "id": "llcX7FasQiyS",
        "outputId": "4abae53f-c5e5-422c-8fb8-63c4d43713d1"
      },
      "execution_count": null,
      "outputs": [
        {
          "output_type": "stream",
          "name": "stdout",
          "text": [
            "https://www.flipkart.com/poco-c50-country-green-32-gb/p/itmceaa9370920fd?pid=MOBGK8WZYEJ3G5AA&lid=LSTMOBGK8WZYEJ3G5AAMF47BF&marketplace=FLIPKART&q=phones&store=tyy%2F4io&srno=s_1_2&otracker=search&fm=organic&iid=36cbaf7a-b40e-4f63-b9f5-958ce7ae6874.MOBGK8WZYEJ3G5AA.SEARCH&ppt=None&ppn=None&ssid=dgzze36cdc0000001681919182713&qH=28388ea49f54c5b8\n",
            "https://www.flipkart.com/poco-m4-5g-cool-blue-64-gb/p/itm7b27dd2f5da7e?pid=MOBGDRGPD6YGVHXZ&lid=LSTMOBGDRGPD6YGVHXZXRTTHJ&marketplace=FLIPKART&q=phones&store=tyy%2F4io&srno=s_1_3&otracker=search&fm=organic&iid=36cbaf7a-b40e-4f63-b9f5-958ce7ae6874.MOBGDRGPD6YGVHXZ.SEARCH&ppt=None&ppn=None&ssid=dgzze36cdc0000001681919182713&qH=28388ea49f54c5b8\n",
            "https://www.flipkart.com/poco-m4-pro-yellow-128-gb/p/itm675edffaf085d?pid=MOBGBTHFCY9DADTY&lid=LSTMOBGBTHFCY9DADTYZTJMWM&marketplace=FLIPKART&q=phones&store=tyy%2F4io&srno=s_1_4&otracker=search&fm=organic&iid=36cbaf7a-b40e-4f63-b9f5-958ce7ae6874.MOBGBTHFCY9DADTY.SEARCH&ppt=None&ppn=None&ssid=dgzze36cdc0000001681919182713&qH=28388ea49f54c5b8\n",
            "https://www.flipkart.com/poco-c50-royal-blue-32-gb/p/itm9c774a53205d1?pid=MOBGK8WZPS5BQRFA&lid=LSTMOBGK8WZPS5BQRFAEQXUQ9&marketplace=FLIPKART&q=phones&store=tyy%2F4io&srno=s_1_5&otracker=search&fm=organic&iid=36cbaf7a-b40e-4f63-b9f5-958ce7ae6874.MOBGK8WZPS5BQRFA.SEARCH&ppt=None&ppn=None&ssid=dgzze36cdc0000001681919182713&qH=28388ea49f54c5b8\n",
            "https://www.flipkart.com/samsung-galaxy-f13-waterfall-blue-128-gb/p/itm85a305642eb7b?pid=MOBGENJWVWYAAVG5&lid=LSTMOBGENJWVWYAAVG5AKPCP0&marketplace=FLIPKART&q=phones&store=tyy%2F4io&srno=s_1_6&otracker=search&fm=organic&iid=36cbaf7a-b40e-4f63-b9f5-958ce7ae6874.MOBGENJWVWYAAVG5.SEARCH&ppt=None&ppn=None&ssid=dgzze36cdc0000001681919182713&qH=28388ea49f54c5b8\n",
            "https://www.flipkart.com/samsung-galaxy-f13-nightsky-green-64-gb/p/itmeadfda1bd23fa?pid=MOBGENJWF4KJTPEN&lid=LSTMOBGENJWF4KJTPENS2XJXA&marketplace=FLIPKART&q=phones&store=tyy%2F4io&srno=s_1_7&otracker=search&fm=organic&iid=36cbaf7a-b40e-4f63-b9f5-958ce7ae6874.MOBGENJWF4KJTPEN.SEARCH&ppt=None&ppn=None&ssid=dgzze36cdc0000001681919182713&qH=28388ea49f54c5b8\n",
            "https://www.flipkart.com/samsung-galaxy-f13-waterfall-blue-64-gb/p/itm583ef432b2b0c?pid=MOBGENJWBPFYJSFT&lid=LSTMOBGENJWBPFYJSFTP8FGOC&marketplace=FLIPKART&q=phones&store=tyy%2F4io&srno=s_1_8&otracker=search&fm=organic&iid=36cbaf7a-b40e-4f63-b9f5-958ce7ae6874.MOBGENJWBPFYJSFT.SEARCH&ppt=None&ppn=None&ssid=dgzze36cdc0000001681919182713&qH=28388ea49f54c5b8\n",
            "https://www.flipkart.com/poco-c55-cool-blue-64-gb/p/itm166c52f5d5dc0?pid=MOBGMXSW55C7ZJE7&lid=LSTMOBGMXSW55C7ZJE7OFBLA7&marketplace=FLIPKART&q=phones&store=tyy%2F4io&srno=s_1_9&otracker=search&fm=organic&iid=36cbaf7a-b40e-4f63-b9f5-958ce7ae6874.MOBGMXSW55C7ZJE7.SEARCH&ppt=None&ppn=None&ssid=dgzze36cdc0000001681919182713&qH=28388ea49f54c5b8\n",
            "https://www.flipkart.com/redmi-10-pacific-blue-64-gb/p/itm0f2a6a2112b75?pid=MOBGC9GYCHQZK9GW&lid=LSTMOBGC9GYCHQZK9GWAF1RPC&marketplace=FLIPKART&q=phones&store=tyy%2F4io&srno=s_1_10&otracker=search&fm=organic&iid=36cbaf7a-b40e-4f63-b9f5-958ce7ae6874.MOBGC9GYCHQZK9GW.SEARCH&ppt=None&ppn=None&ssid=dgzze36cdc0000001681919182713&qH=28388ea49f54c5b8\n",
            "https://www.flipkart.com/samsung-galaxy-f13-nightsky-green-128-gb/p/itma7ed2982bc08f?pid=MOBGENJW6YHHQDYU&lid=LSTMOBGENJW6YHHQDYUXELNQ3&marketplace=FLIPKART&q=phones&store=tyy%2F4io&srno=s_1_11&otracker=search&fm=organic&iid=36cbaf7a-b40e-4f63-b9f5-958ce7ae6874.MOBGENJW6YHHQDYU.SEARCH&ppt=None&ppn=None&ssid=dgzze36cdc0000001681919182713&qH=28388ea49f54c5b8\n",
            "https://www.flipkart.com/apple-iphone-13-midnight-128-gb/p/itmca361aab1c5b0?pid=MOBG6VF5Q82T3XRS&lid=LSTMOBG6VF5Q82T3XRSOXJLM9&marketplace=FLIPKART&q=phones&store=tyy%2F4io&srno=s_1_12&otracker=search&fm=organic&iid=36cbaf7a-b40e-4f63-b9f5-958ce7ae6874.MOBG6VF5Q82T3XRS.SEARCH&ppt=None&ppn=None&ssid=dgzze36cdc0000001681919182713&qH=28388ea49f54c5b8\n",
            "https://www.flipkart.com/infinix-hot-30i-glacier-blue-128-gb/p/itm8b42a43b35895?pid=MOBGNPK2ZTGZBRXE&lid=LSTMOBGNPK2ZTGZBRXEAFQ5YT&marketplace=FLIPKART&q=phones&store=tyy%2F4io&srno=s_1_13&otracker=search&fm=organic&iid=36cbaf7a-b40e-4f63-b9f5-958ce7ae6874.MOBGNPK2ZTGZBRXE.SEARCH&ppt=None&ppn=None&ssid=dgzze36cdc0000001681919182713&qH=28388ea49f54c5b8\n",
            "https://www.flipkart.com/infinix-hot-30i-mirror-black-64-gb/p/itm8b42a43b35895?pid=MOBGNPK2QRUEBEHG&lid=LSTMOBGNPK2QRUEBEHGKBH4RF&marketplace=FLIPKART&q=phones&store=tyy%2F4io&srno=s_1_14&otracker=search&fm=organic&iid=36cbaf7a-b40e-4f63-b9f5-958ce7ae6874.MOBGNPK2QRUEBEHG.SEARCH&ppt=None&ppn=None&ssid=dgzze36cdc0000001681919182713&qH=28388ea49f54c5b8\n",
            "https://www.flipkart.com/motorola-e13-aurora-green-64-gb/p/itm3042ad3770a18?pid=MOBGKHNBA55HDSZR&lid=LSTMOBGKHNBA55HDSZRHOAFME&marketplace=FLIPKART&q=phones&store=tyy%2F4io&srno=s_1_15&otracker=search&fm=organic&iid=36cbaf7a-b40e-4f63-b9f5-958ce7ae6874.MOBGKHNBA55HDSZR.SEARCH&ppt=None&ppn=None&ssid=dgzze36cdc0000001681919182713&qH=28388ea49f54c5b8\n",
            "https://www.flipkart.com/poco-c50-country-green-32-gb/p/itma1fd4c176db79?pid=MOBGK8WZAFFKHXRC&lid=LSTMOBGK8WZAFFKHXRCZKOFDZ&marketplace=FLIPKART&q=phones&store=tyy%2F4io&srno=s_1_16&otracker=search&fm=organic&iid=36cbaf7a-b40e-4f63-b9f5-958ce7ae6874.MOBGK8WZAFFKHXRC.SEARCH&ppt=None&ppn=None&ssid=dgzze36cdc0000001681919182713&qH=28388ea49f54c5b8\n",
            "https://www.flipkart.com/poco-m4-5g-power-black-128-gb/p/itm967111aabdc3f?pid=MOBGDRGPQQGTRXU9&lid=LSTMOBGDRGPQQGTRXU9P0JJRO&marketplace=FLIPKART&q=phones&store=tyy%2F4io&srno=s_1_17&otracker=search&fm=organic&iid=36cbaf7a-b40e-4f63-b9f5-958ce7ae6874.MOBGDRGPQQGTRXU9.SEARCH&ppt=None&ppn=None&ssid=dgzze36cdc0000001681919182713&qH=28388ea49f54c5b8\n",
            "https://www.flipkart.com/infinix-hot-30i-glacier-blue-64-gb/p/itm8b42a43b35895?pid=MOBGNPK2BBNPWJYR&lid=LSTMOBGNPK2BBNPWJYRIQDVWM&marketplace=FLIPKART&q=phones&store=tyy%2F4io&srno=s_1_18&otracker=search&fm=organic&iid=36cbaf7a-b40e-4f63-b9f5-958ce7ae6874.MOBGNPK2BBNPWJYR.SEARCH&ppt=None&ppn=None&ssid=dgzze36cdc0000001681919182713&qH=28388ea49f54c5b8\n",
            "https://www.flipkart.com/realme-c33-2023-night-sea-64-gb/p/itmdfad610ca6eff?pid=MOBGMWBY7J7NKPQE&lid=LSTMOBGMWBY7J7NKPQE3AVTPM&marketplace=FLIPKART&q=phones&store=tyy%2F4io&srno=s_1_19&otracker=search&fm=organic&iid=36cbaf7a-b40e-4f63-b9f5-958ce7ae6874.MOBGMWBY7J7NKPQE.SEARCH&ppt=None&ppn=None&ssid=dgzze36cdc0000001681919182713&qH=28388ea49f54c5b8\n",
            "https://www.flipkart.com/realme-c33-2023-aqua-blue-64-gb/p/itmdfad610ca6eff?pid=MOBGMWBYUWY2EMNU&lid=LSTMOBGMWBYUWY2EMNUCEFPBD&marketplace=FLIPKART&q=phones&store=tyy%2F4io&srno=s_1_20&otracker=search&fm=organic&iid=36cbaf7a-b40e-4f63-b9f5-958ce7ae6874.MOBGMWBYUWY2EMNU.SEARCH&ppt=None&ppn=None&ssid=dgzze36cdc0000001681919182713&qH=28388ea49f54c5b8\n",
            "https://www.flipkart.com/realme-c33-2023-sandy-gold-64-gb/p/itmdfad610ca6eff?pid=MOBGMWBYFKUYZFZA&lid=LSTMOBGMWBYFKUYZFZAG8DUMK&marketplace=FLIPKART&q=phones&store=tyy%2F4io&srno=s_1_21&otracker=search&fm=organic&iid=36cbaf7a-b40e-4f63-b9f5-958ce7ae6874.MOBGMWBYFKUYZFZA.SEARCH&ppt=None&ppn=None&ssid=dgzze36cdc0000001681919182713&qH=28388ea49f54c5b8\n",
            "https://www.flipkart.com/redmi-10-midnight-black-64-gb/p/itmd93641e4ebb47?pid=MOBGC9GYEBH3GZ4E&lid=LSTMOBGC9GYEBH3GZ4E44YY0L&marketplace=FLIPKART&q=phones&store=tyy%2F4io&srno=s_1_22&otracker=search&fm=organic&iid=36cbaf7a-b40e-4f63-b9f5-958ce7ae6874.MOBGC9GYEBH3GZ4E.SEARCH&ppt=None&ppn=None&ssid=dgzze36cdc0000001681919182713&qH=28388ea49f54c5b8\n",
            "https://www.flipkart.com/poco-m4-5g-power-black-64-gb/p/itmdca739218a8a0?pid=MOBGDRGPZTSHNQ5H&lid=LSTMOBGDRGPZTSHNQ5HK2U5VI&marketplace=FLIPKART&q=phones&store=tyy%2F4io&srno=s_1_23&otracker=search&fm=organic&iid=36cbaf7a-b40e-4f63-b9f5-958ce7ae6874.MOBGDRGPZTSHNQ5H.SEARCH&ppt=None&ppn=None&ssid=dgzze36cdc0000001681919182713&qH=28388ea49f54c5b8\n",
            "https://www.flipkart.com/motorola-g52-metallic-white-128-gb/p/itm469efad765b98?pid=MOBGAKFYDDSNZGR8&lid=LSTMOBGAKFYDDSNZGR8W6QBUV&marketplace=FLIPKART&q=phones&store=tyy%2F4io&srno=s_1_24&otracker=search&fm=organic&iid=36cbaf7a-b40e-4f63-b9f5-958ce7ae6874.MOBGAKFYDDSNZGR8.SEARCH&ppt=None&ppn=None&ssid=dgzze36cdc0000001681919182713&qH=28388ea49f54c5b8\n"
          ]
        },
        {
          "output_type": "error",
          "ename": "AttributeError",
          "evalue": "ignored",
          "traceback": [
            "\u001b[0;31m---------------------------------------------------------------------------\u001b[0m",
            "\u001b[0;31mAttributeError\u001b[0m                            Traceback (most recent call last)",
            "\u001b[0;32m<ipython-input-20-6443879fcb12>\u001b[0m in \u001b[0;36m<cell line: 1>\u001b[0;34m()\u001b[0m\n\u001b[1;32m      1\u001b[0m \u001b[0;32mfor\u001b[0m \u001b[0mi\u001b[0m \u001b[0;32min\u001b[0m \u001b[0mbigbox\u001b[0m\u001b[0;34m:\u001b[0m\u001b[0;34m\u001b[0m\u001b[0;34m\u001b[0m\u001b[0m\n\u001b[0;32m----> 2\u001b[0;31m     \u001b[0mprint\u001b[0m\u001b[0;34m(\u001b[0m\u001b[0;34m\"https://www.flipkart.com\"\u001b[0m \u001b[0;34m+\u001b[0m \u001b[0mi\u001b[0m\u001b[0;34m.\u001b[0m\u001b[0mdiv\u001b[0m\u001b[0;34m.\u001b[0m\u001b[0mdiv\u001b[0m\u001b[0;34m.\u001b[0m\u001b[0mdiv\u001b[0m\u001b[0;34m.\u001b[0m\u001b[0ma\u001b[0m\u001b[0;34m[\u001b[0m\u001b[0;34m'href'\u001b[0m\u001b[0;34m]\u001b[0m\u001b[0;34m)\u001b[0m\u001b[0;34m\u001b[0m\u001b[0;34m\u001b[0m\u001b[0m\n\u001b[0m\u001b[1;32m      3\u001b[0m \u001b[0;34m\u001b[0m\u001b[0m\n",
            "\u001b[0;31mAttributeError\u001b[0m: 'NoneType' object has no attribute 'a'"
          ]
        }
      ]
    },
    {
      "cell_type": "code",
      "source": [
        "productlink"
      ],
      "metadata": {
        "colab": {
          "base_uri": "https://localhost:8080/",
          "height": 70
        },
        "id": "B97Qbv0cQ5Hs",
        "outputId": "69227c3a-8165-4e58-cdd6-64c040e0f10c"
      },
      "execution_count": null,
      "outputs": [
        {
          "output_type": "execute_result",
          "data": {
            "text/plain": [
              "'https://www.flipkart.com/poco-c50-country-green-32-gb/p/itmceaa9370920fd?pid=MOBGK8WZYEJ3G5AA&lid=LSTMOBGK8WZYEJ3G5AAMF47BF&marketplace=FLIPKART&q=phones&store=tyy%2F4io&srno=s_1_2&otracker=search&fm=organic&iid=36cbaf7a-b40e-4f63-b9f5-958ce7ae6874.MOBGK8WZYEJ3G5AA.SEARCH&ppt=None&ppn=None&ssid=dgzze36cdc0000001681919182713&qH=28388ea49f54c5b8'"
            ],
            "application/vnd.google.colaboratory.intrinsic+json": {
              "type": "string"
            }
          },
          "metadata": {},
          "execution_count": 21
        }
      ]
    },
    {
      "cell_type": "code",
      "source": [
        "procuct_req = requests.get(productlink)"
      ],
      "metadata": {
        "id": "ik04PtqkRJ37"
      },
      "execution_count": null,
      "outputs": []
    },
    {
      "cell_type": "code",
      "source": [
        "product_html = bs(procuct_req.text,'html.parser')"
      ],
      "metadata": {
        "id": "REmTXGxvRU2n"
      },
      "execution_count": null,
      "outputs": []
    },
    {
      "cell_type": "code",
      "source": [
        "coment_box = product_html.find_all(\"div\",{\"class\":\"_16PBlm\"})"
      ],
      "metadata": {
        "id": "H6Dny2aWcTXt"
      },
      "execution_count": 24,
      "outputs": []
    },
    {
      "cell_type": "code",
      "source": [
        "len(coment_box)"
      ],
      "metadata": {
        "colab": {
          "base_uri": "https://localhost:8080/"
        },
        "id": "S0XIrm2ScuCw",
        "outputId": "db512ded-71a5-45b9-cfde-5d07f383a2fc"
      },
      "execution_count": 25,
      "outputs": [
        {
          "output_type": "execute_result",
          "data": {
            "text/plain": [
              "11"
            ]
          },
          "metadata": {},
          "execution_count": 25
        }
      ]
    },
    {
      "cell_type": "code",
      "source": [
        "coment_box[0].div.div.find_all(\"p\",{\"class\":\"_2sc7ZR _2V5EHH\"})[0].text"
      ],
      "metadata": {
        "colab": {
          "base_uri": "https://localhost:8080/",
          "height": 36
        },
        "id": "U-S7Cqasc2VQ",
        "outputId": "f5980296-962d-493e-f589-56f047b1a1ad"
      },
      "execution_count": 26,
      "outputs": [
        {
          "output_type": "execute_result",
          "data": {
            "text/plain": [
              "'Sumit Solanki'"
            ],
            "application/vnd.google.colaboratory.intrinsic+json": {
              "type": "string"
            }
          },
          "metadata": {},
          "execution_count": 26
        }
      ]
    },
    {
      "cell_type": "code",
      "source": [
        "for i in coment_box:\n",
        "    print(i.div.div.find_all(\"p\",{\"class\":\"_2sc7ZR _2V5EHH\"})[0].text)"
      ],
      "metadata": {
        "colab": {
          "base_uri": "https://localhost:8080/",
          "height": 356
        },
        "id": "uBnsSfXkc7-C",
        "outputId": "fbc086f9-1726-462b-bc19-b41896be706a"
      },
      "execution_count": 27,
      "outputs": [
        {
          "output_type": "stream",
          "name": "stdout",
          "text": [
            "Sumit Solanki\n",
            "Flipkart Customer\n",
            "Parimal Mondal\n",
            "Jibrail  Alam\n",
            "Chirag Solanki\n",
            "Flipkart Customer\n",
            "Gajendra Verma\n",
            "Ashwin  K V\n",
            "Subham Sing\n",
            "sandesh poojary\n"
          ]
        },
        {
          "output_type": "error",
          "ename": "AttributeError",
          "evalue": "ignored",
          "traceback": [
            "\u001b[0;31m---------------------------------------------------------------------------\u001b[0m",
            "\u001b[0;31mAttributeError\u001b[0m                            Traceback (most recent call last)",
            "\u001b[0;32m<ipython-input-27-9b71dd8bc6c2>\u001b[0m in \u001b[0;36m<cell line: 1>\u001b[0;34m()\u001b[0m\n\u001b[1;32m      1\u001b[0m \u001b[0;32mfor\u001b[0m \u001b[0mi\u001b[0m \u001b[0;32min\u001b[0m \u001b[0mcoment_box\u001b[0m\u001b[0;34m:\u001b[0m\u001b[0;34m\u001b[0m\u001b[0;34m\u001b[0m\u001b[0m\n\u001b[0;32m----> 2\u001b[0;31m     \u001b[0mprint\u001b[0m\u001b[0;34m(\u001b[0m\u001b[0mi\u001b[0m\u001b[0;34m.\u001b[0m\u001b[0mdiv\u001b[0m\u001b[0;34m.\u001b[0m\u001b[0mdiv\u001b[0m\u001b[0;34m.\u001b[0m\u001b[0mfind_all\u001b[0m\u001b[0;34m(\u001b[0m\u001b[0;34m\"p\"\u001b[0m\u001b[0;34m,\u001b[0m\u001b[0;34m{\u001b[0m\u001b[0;34m\"class\"\u001b[0m\u001b[0;34m:\u001b[0m\u001b[0;34m\"_2sc7ZR _2V5EHH\"\u001b[0m\u001b[0;34m}\u001b[0m\u001b[0;34m)\u001b[0m\u001b[0;34m[\u001b[0m\u001b[0;36m0\u001b[0m\u001b[0;34m]\u001b[0m\u001b[0;34m.\u001b[0m\u001b[0mtext\u001b[0m\u001b[0;34m)\u001b[0m\u001b[0;34m\u001b[0m\u001b[0;34m\u001b[0m\u001b[0m\n\u001b[0m",
            "\u001b[0;31mAttributeError\u001b[0m: 'NoneType' object has no attribute 'div'"
          ]
        }
      ]
    },
    {
      "cell_type": "code",
      "source": [
        "for i in coment_box:\n",
        "    print(i.div.div.div.div.text)"
      ],
      "metadata": {
        "colab": {
          "base_uri": "https://localhost:8080/",
          "height": 356
        },
        "id": "QijF9BbhdtYk",
        "outputId": "fe1da8ca-20dc-483d-a64d-8d2161ed917a"
      },
      "execution_count": 28,
      "outputs": [
        {
          "output_type": "stream",
          "name": "stdout",
          "text": [
            "5\n",
            "4\n",
            "5\n",
            "5\n",
            "5\n",
            "5\n",
            "5\n",
            "1\n",
            "4\n",
            "1\n"
          ]
        },
        {
          "output_type": "error",
          "ename": "AttributeError",
          "evalue": "ignored",
          "traceback": [
            "\u001b[0;31m---------------------------------------------------------------------------\u001b[0m",
            "\u001b[0;31mAttributeError\u001b[0m                            Traceback (most recent call last)",
            "\u001b[0;32m<ipython-input-28-0a75781b1f75>\u001b[0m in \u001b[0;36m<cell line: 1>\u001b[0;34m()\u001b[0m\n\u001b[1;32m      1\u001b[0m \u001b[0;32mfor\u001b[0m \u001b[0mi\u001b[0m \u001b[0;32min\u001b[0m \u001b[0mcoment_box\u001b[0m\u001b[0;34m:\u001b[0m\u001b[0;34m\u001b[0m\u001b[0;34m\u001b[0m\u001b[0m\n\u001b[0;32m----> 2\u001b[0;31m     \u001b[0mprint\u001b[0m\u001b[0;34m(\u001b[0m\u001b[0mi\u001b[0m\u001b[0;34m.\u001b[0m\u001b[0mdiv\u001b[0m\u001b[0;34m.\u001b[0m\u001b[0mdiv\u001b[0m\u001b[0;34m.\u001b[0m\u001b[0mdiv\u001b[0m\u001b[0;34m.\u001b[0m\u001b[0mdiv\u001b[0m\u001b[0;34m.\u001b[0m\u001b[0mtext\u001b[0m\u001b[0;34m)\u001b[0m\u001b[0;34m\u001b[0m\u001b[0;34m\u001b[0m\u001b[0m\n\u001b[0m",
            "\u001b[0;31mAttributeError\u001b[0m: 'NoneType' object has no attribute 'div'"
          ]
        }
      ]
    },
    {
      "cell_type": "code",
      "source": [
        "coment_box[0].div.div.div.p.text"
      ],
      "metadata": {
        "colab": {
          "base_uri": "https://localhost:8080/",
          "height": 36
        },
        "id": "AksHaHhAduhf",
        "outputId": "190ccec3-1dc3-48e1-d99a-afaaa8d3552c"
      },
      "execution_count": 29,
      "outputs": [
        {
          "output_type": "execute_result",
          "data": {
            "text/plain": [
              "'Classy product'"
            ],
            "application/vnd.google.colaboratory.intrinsic+json": {
              "type": "string"
            }
          },
          "metadata": {},
          "execution_count": 29
        }
      ]
    },
    {
      "cell_type": "code",
      "source": [
        "for i in coment_box:\n",
        "    print(i.div.div.div.p.text )"
      ],
      "metadata": {
        "colab": {
          "base_uri": "https://localhost:8080/",
          "height": 356
        },
        "id": "jYvTccOteDwb",
        "outputId": "9474c114-26ad-419c-87e0-1411c3ada382"
      },
      "execution_count": 30,
      "outputs": [
        {
          "output_type": "stream",
          "name": "stdout",
          "text": [
            "Classy product\n",
            "Pretty good\n",
            "Classy product\n",
            "Terrific purchase\n",
            "Terrific\n",
            "Wonderful\n",
            "Worth every penny\n",
            "Waste of money!\n",
            "Pretty good\n",
            "Worthless\n"
          ]
        },
        {
          "output_type": "error",
          "ename": "AttributeError",
          "evalue": "ignored",
          "traceback": [
            "\u001b[0;31m---------------------------------------------------------------------------\u001b[0m",
            "\u001b[0;31mAttributeError\u001b[0m                            Traceback (most recent call last)",
            "\u001b[0;32m<ipython-input-30-23199b12e197>\u001b[0m in \u001b[0;36m<cell line: 1>\u001b[0;34m()\u001b[0m\n\u001b[1;32m      1\u001b[0m \u001b[0;32mfor\u001b[0m \u001b[0mi\u001b[0m \u001b[0;32min\u001b[0m \u001b[0mcoment_box\u001b[0m\u001b[0;34m:\u001b[0m\u001b[0;34m\u001b[0m\u001b[0;34m\u001b[0m\u001b[0m\n\u001b[0;32m----> 2\u001b[0;31m     \u001b[0mprint\u001b[0m\u001b[0;34m(\u001b[0m\u001b[0mi\u001b[0m\u001b[0;34m.\u001b[0m\u001b[0mdiv\u001b[0m\u001b[0;34m.\u001b[0m\u001b[0mdiv\u001b[0m\u001b[0;34m.\u001b[0m\u001b[0mdiv\u001b[0m\u001b[0;34m.\u001b[0m\u001b[0mp\u001b[0m\u001b[0;34m.\u001b[0m\u001b[0mtext\u001b[0m \u001b[0;34m)\u001b[0m\u001b[0;34m\u001b[0m\u001b[0;34m\u001b[0m\u001b[0m\n\u001b[0m",
            "\u001b[0;31mAttributeError\u001b[0m: 'NoneType' object has no attribute 'div'"
          ]
        }
      ]
    },
    {
      "cell_type": "code",
      "source": [
        "coment_box[0].div.div.find_all(\"div\",{\"class\":\"\"})[0].text"
      ],
      "metadata": {
        "colab": {
          "base_uri": "https://localhost:8080/",
          "height": 70
        },
        "id": "-SyJOIgveO1l",
        "outputId": "ddc5b92f-2edd-45d0-e72b-c31d40911d40"
      },
      "execution_count": 31,
      "outputs": [
        {
          "output_type": "execute_result",
          "data": {
            "text/plain": [
              "\"Initial impressions:- First up all at this price range it's really good value for money products 👌  I purchased it for my mom so she doesn't know much about android phone so not big expectations from her end regarding performance and etc... Thats why it' may be a decent choice .Pros* 1- Camera is decent 2- 5000 MAH Battery also good3- Display is decent 4- Sound quality is also good5- Look and design realy impressive. 6- processor is decent 7- stock android go edition with MIUI ...READ MORE\""
            ],
            "application/vnd.google.colaboratory.intrinsic+json": {
              "type": "string"
            }
          },
          "metadata": {},
          "execution_count": 31
        }
      ]
    },
    {
      "cell_type": "code",
      "source": [
        "for i in coment_box:\n",
        "    print(i.div.div.find_all(\"div\",{\"class\":\"\"})[0].text)"
      ],
      "metadata": {
        "colab": {
          "base_uri": "https://localhost:8080/",
          "height": 376
        },
        "id": "lrT7TTiied8r",
        "outputId": "78bd310c-5282-4a68-ebf0-ebdb6298d789"
      },
      "execution_count": 32,
      "outputs": [
        {
          "output_type": "stream",
          "name": "stdout",
          "text": [
            "Initial impressions:- First up all at this price range it's really good value for money products 👌  I purchased it for my mom so she doesn't know much about android phone so not big expectations from her end regarding performance and etc... Thats why it' may be a decent choice .Pros* 1- Camera is decent 2- 5000 MAH Battery also good3- Display is decent 4- Sound quality is also good5- Look and design realy impressive. 6- processor is decent 7- stock android go edition with MIUI ...READ MORE\n",
            "Good product with good price...although front camera is ok while back camera is good..battery life is super.READ MORE\n",
            "Very good product ❤️👍READ MORE\n",
            "Good product 👍READ MORE\n",
            "for only who have limited budget... running smoothly for your daily life routine work ...🎈READ MORE\n",
            "SuperREAD MORE\n",
            "Best smartphone this price 😊😊READ MORE\n",
            "Too much lag. I know its budget phone but you expect a new device not to lag.READ MORE\n",
            "Its good in this price rage...... stock andriod experience...❤️READ MORE\n",
            "Worst product, wast of moneyIn just 5 days i started facing problem*Important* Even Flipkart failed to help me, #wasteofmoney #worstproduct # FraudProduct #disappointed_by_flipkartREAD MORE\n"
          ]
        },
        {
          "output_type": "error",
          "ename": "AttributeError",
          "evalue": "ignored",
          "traceback": [
            "\u001b[0;31m---------------------------------------------------------------------------\u001b[0m",
            "\u001b[0;31mAttributeError\u001b[0m                            Traceback (most recent call last)",
            "\u001b[0;32m<ipython-input-32-586f72df4917>\u001b[0m in \u001b[0;36m<cell line: 1>\u001b[0;34m()\u001b[0m\n\u001b[1;32m      1\u001b[0m \u001b[0;32mfor\u001b[0m \u001b[0mi\u001b[0m \u001b[0;32min\u001b[0m \u001b[0mcoment_box\u001b[0m\u001b[0;34m:\u001b[0m\u001b[0;34m\u001b[0m\u001b[0;34m\u001b[0m\u001b[0m\n\u001b[0;32m----> 2\u001b[0;31m     \u001b[0mprint\u001b[0m\u001b[0;34m(\u001b[0m\u001b[0mi\u001b[0m\u001b[0;34m.\u001b[0m\u001b[0mdiv\u001b[0m\u001b[0;34m.\u001b[0m\u001b[0mdiv\u001b[0m\u001b[0;34m.\u001b[0m\u001b[0mfind_all\u001b[0m\u001b[0;34m(\u001b[0m\u001b[0;34m\"div\"\u001b[0m\u001b[0;34m,\u001b[0m\u001b[0;34m{\u001b[0m\u001b[0;34m\"class\"\u001b[0m\u001b[0;34m:\u001b[0m\u001b[0;34m\"\"\u001b[0m\u001b[0;34m}\u001b[0m\u001b[0;34m)\u001b[0m\u001b[0;34m[\u001b[0m\u001b[0;36m0\u001b[0m\u001b[0;34m]\u001b[0m\u001b[0;34m.\u001b[0m\u001b[0mtext\u001b[0m\u001b[0;34m)\u001b[0m\u001b[0;34m\u001b[0m\u001b[0;34m\u001b[0m\u001b[0m\n\u001b[0m",
            "\u001b[0;31mAttributeError\u001b[0m: 'NoneType' object has no attribute 'div'"
          ]
        }
      ]
    }
  ]
}